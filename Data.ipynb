{
 "cells": [
  {
   "cell_type": "markdown",
   "metadata": {
    "collapsed": true
   },
   "source": [
    "# Applied Data Science Capstone:"
   ]
  },
  {
   "cell_type": "markdown",
   "metadata": {},
   "source": [
    "**The data that use in this project is location data from** \n",
    "\n",
    "**1. wiki pages contain latitude, longitude, district, sub-district and other necessaries location data**"
   ]
  },
  {
   "cell_type": "markdown",
   "metadata": {},
   "source": [
    "### Data"
   ]
  },
  {
   "cell_type": "markdown",
   "metadata": {},
   "source": [
    "* wiki page: list of districts of Bangkok, ([link1](https://en.wikipedia.org/wiki/List_of_districts_of_Bangkok))\n",
    "\n",
    "* wiki page: Postal code of bangkok districts, (([link2](https://th.wikipedia.org/wiki/%E0%B8%A3%E0%B8%B2%E0%B8%A2%E0%B8%81%E0%B8%B2%E0%B8%A3%E0%B8%A3%E0%B8%AB%E0%B8%B1%E0%B8%AA%E0%B9%84%E0%B8%9B%E0%B8%A3%E0%B8%A9%E0%B8%93%E0%B8%B5%E0%B8%A2%E0%B9%8C%E0%B9%84%E0%B8%97%E0%B8%A2)))\n",
    "\n",
    "* wiki page: Districts and Sub-districts, ([link3](https://th.wikipedia.org/wiki/%E0%B9%81%E0%B8%82%E0%B8%A7%E0%B8%87))\n"
   ]
  },
  {
   "cell_type": "markdown",
   "metadata": {},
   "source": [
    "**Note there are missing value of latitude and longitude in [link1]**\n",
    "\n",
    "**so the missing value has been replaced by the data in [Geocoder](https://geocoder.readthedocs.io/index.html)**\n",
    "\n",
    "**2. foursquareAPI for in each neighborhoods**\n",
    "\n",
    "* foursquare Api ([link4](https://developer.foursquare.com/))"
   ]
  },
  {
   "cell_type": "markdown",
   "metadata": {},
   "source": [
    "---"
   ]
  },
  {
   "cell_type": "markdown",
   "metadata": {},
   "source": [
    "## Process of data collection:"
   ]
  },
  {
   "cell_type": "markdown",
   "metadata": {},
   "source": [
    "#### Data preparation"
   ]
  },
  {
   "cell_type": "markdown",
   "metadata": {},
   "source": [
    "* Scrapped location data from wikipage \n",
    "\n",
    "\n",
    "* Replaced missing-value with data from Geocoder \n",
    "\n",
    "\n",
    "* Called foursquare api for venues around neighborhoods"
   ]
  }
 ],
 "metadata": {
  "kernelspec": {
   "display_name": "Python 3.6",
   "language": "python",
   "name": "python3"
  },
  "language_info": {
   "codemirror_mode": {
    "name": "ipython",
    "version": 3
   },
   "file_extension": ".py",
   "mimetype": "text/x-python",
   "name": "python",
   "nbconvert_exporter": "python",
   "pygments_lexer": "ipython3",
   "version": "3.6.8"
  }
 },
 "nbformat": 4,
 "nbformat_minor": 1
}
