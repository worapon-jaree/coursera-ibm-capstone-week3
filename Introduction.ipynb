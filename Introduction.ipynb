{
 "cells": [
  {
   "cell_type": "markdown",
   "metadata": {},
   "source": [
    "# Applied Data Science Capstone:"
   ]
  },
  {
   "cell_type": "markdown",
   "metadata": {},
   "source": [
    "#### According to the instruction , <br><br>'you will have the opportunity to be as creative as you want and come up with an idea <br><br>to leverage the Foursquare location data to explore or compare neighborhoods or cities of your choice <br><br>or to come up with a problem that you can use the Foursquare location data to solve'."
   ]
  },
  {
   "cell_type": "markdown",
   "metadata": {},
   "source": [
    "---"
   ]
  },
  {
   "cell_type": "markdown",
   "metadata": {
    "collapsed": true
   },
   "source": [
    "## Introduction :"
   ]
  },
  {
   "cell_type": "markdown",
   "metadata": {},
   "source": [
    "**Bangkok is by far one of the world’s tourist destination cities, not just domestic tourists but also international tourists may be because it’s the principal gateway for arriving visitors to Southeast Asia. Bangkok is a modern Asian never slept city.**\n",
    "\n",
    "**Originally Bangkok was a tiny village on the west bank of the Chao Phraya River. Times pass by many things happened, the capital was moved to the eastern bank and named**\n",
    "\n",
    "* \"Krung Thep mahanakhon amorn ratanakosin mahintharayutthaya mahadilok popnoparat ratchathani burirom udomratchanivetmahasathan amornpiman avatarnsathit sakkathattiya visnukarmprasit\" which means the ‘City of Angels’.\n",
    "\n",
    "**As I mentioned the west bank is call ‘Thonburi’ and the eastern bank where the Grand Palace is located call ‘Phra nakhon’ which translated to Grand Palace in English. Besides from the recently Coup, \n",
    "all day heavy traffic congestion, high heat temperature and naughty There’re a lot more you can find here.**\n",
    "\n"
   ]
  },
  {
   "cell_type": "markdown",
   "metadata": {},
   "source": [
    "## Business Problems :"
   ]
  },
  {
   "cell_type": "markdown",
   "metadata": {},
   "source": [
    "**From the introduction you can easily tells that Bangkok is a crowded city and a lot of people come with a lot of business, highly competitive new business venture who would like to have a slice of cake called profit need to be carefully about their dicision making. Any insights from analysis will give some good business understanding. this will also help business development and targeting the rights market**"
   ]
  },
  {
   "cell_type": "markdown",
   "metadata": {},
   "source": [
    "**Basically this project will try to explore how place are located in Bangkok and answer**\n",
    "* Is 'Phra nakhon' side where basically are Bangkok inner core have more tourist attraction than 'Thonburi' side ?\n",
    "* If we are looking for an oppotunity to open a restaurants, where would be the good choices to land our business ?\n"
   ]
  },
  {
   "cell_type": "markdown",
   "metadata": {},
   "source": [
    "## Target Audience :"
   ]
  },
  {
   "cell_type": "markdown",
   "metadata": {},
   "source": [
    "**The result can be use for either tourists domestic or international who would like to explore Bangkok or Business owner who looking for a new oppotunity in this Gigantic city and also ordinary people who love to learn more about this city**\n",
    "* Tourists \n",
    "* Business owner\n",
    "* Anyone"
   ]
  },
  {
   "cell_type": "code",
   "execution_count": null,
   "metadata": {},
   "outputs": [],
   "source": []
  }
 ],
 "metadata": {
  "kernelspec": {
   "display_name": "Python 3.6",
   "language": "python",
   "name": "python3"
  },
  "language_info": {
   "codemirror_mode": {
    "name": "ipython",
    "version": 3
   },
   "file_extension": ".py",
   "mimetype": "text/x-python",
   "name": "python",
   "nbconvert_exporter": "python",
   "pygments_lexer": "ipython3",
   "version": "3.6.8"
  }
 },
 "nbformat": 4,
 "nbformat_minor": 1
}
